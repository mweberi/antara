


# Data Manipulation and Analysis
import pandas as pd
import numpy as np
import duckdb  # DuckDB for querying data efficiently

# Data Visualization
import matplotlib.pyplot as plt
import seaborn as sns
import plotly.express as px







import os
import pandas as pd

# Directory where your files are located
directory_path = '/Users/paulineoriko/documents/github/antara_assessment/data/campaign_trackers'

# Initialize an empty list to hold the dataframes
dataframes = []

# Loop through the files in the directory
for file_name in os.listdir(directory_path):
    file_path = os.path.join(directory_path, file_name)

    # Check the file extension and load the file accordingly
    if file_name.endswith('.csv'):
        df = pd.read_csv(file_path)
    elif file_name.endswith('.tsv'):
        df = pd.read_csv(file_path, sep='\t')
    elif file_name.endswith('.xlsx'):
        df = pd.read_excel(file_path)
    else:
        continue  # Skip if the file is not a supported format

    # Append the dataframe to the list
    dataframes.append(df)

# Combine all the dataframes into one
combined_df = pd.concat(dataframes, ignore_index=True).dropna().reset_index(drop=True)

# Display or work with the combined DataFrame
combined_df.head(10)  # Preview the first few rows






import os
import pandas as pd

# Path to your directory
directory_path = '/Users/paulineoriko/documents/github/antara_assessment/data/campaign_reports'

# Initialize an empty list to store individual DataFrames
dataframes = []

# Loop through the files in the directory
for file_name in os.listdir(directory_path):
    file_path = os.path.join(directory_path, file_name)

    # Load the CSV files into DataFrames (assuming all files are CSVs)
    if file_name.endswith('.csv'):
        df = pd.read_csv(file_path)
        dataframes.append(df)

        df['campaign_report_csv'] = file_name

# Combine all DataFrames into one
reports_df = pd.concat(dataframes, ignore_index=True)
reports_df.head()





# Merge the combined DataFrame with the metadata DataFrame on `campaign_report_csv`
final_df = pd.merge(reports_df, combined_df, on='campaign_report_csv', how='left')

# Preview the final DataFrame
final_df.head()





# function to parse_json data
def parse_json(row):
    json_items = row.split('}, ')  # Split each key-value pair
    parsed_data = {}

    for item in json_items:
        item = item.replace('{', '').replace('}', '')  # Remove curly braces
        key, value = item.split(': ')  # Split into key and value
        key = key.strip('"')  # Remove any extra quotes from the key
        value = value.strip('"')  # Remove any extra quotes from the value
        parsed_data[key] = value  # Add to dictionary

    return parsed_data


# Apply the function to the column
parsed_columns = final_df['user_attributes'].apply(parse_json)
print(parsed_columns.shape)
df_parsed_json = pd.json_normalize(parsed_columns)
combined_df = pd.concat([final_df, df_parsed_json], axis=1)
print(combined_df.info())





con = duckdb.connect("antara.duckdb")
# Insert the DataFrame into the database
con.execute("CREATE TABLE IF NOT EXISTS campaigns AS SELECT * FROM combined_df")





campaigns_table = con.execute("SELECT * FROM campaigns").fetchdf()

campaigns_table.head()








campaigns_table.to_csv('antara_combined.csv', encoding='utf-8', index=False)








#Generating a funnel
#message_status_df= con.execute("SELECT message_status,COUNT(message_status) AS statues FROM campaigns_table GROUP BY ROLLUP (message_status)  ").fetchdf()
#message_status_df

def calculate_funnel_from_status_count(campaigns_table):
    # Calculate counts for each status
    counts = campaigns_table['message_status'].value_counts()
    

    # Extract counts, defaulting to 0 if the status is missing
    sent_count = len(campaigns_table) 
    invalid_user_count = counts.get('invalid_user', 0)
    delivered_remaining = counts.get('delivered', 0)
    read_remaining = counts.get('read', 0)
    responded_remaining = counts.get('responded', 0)
    # Calculate funnel stages
    delivered_count = sent_count - invalid_user_count
    read_count = delivered_count - delivered_remaining
    responded_count = read_count - read_remaining

    # Return the funnel dictionary
    return {
        'Sent': sent_count,
        'Delivered': delivered_count,
        'Read': read_count,
        'Responded': responded_count}
    
def calculate_funnel_from_status_perc(campaigns_table):
    # Calculate counts for each status
    counts = campaigns_table['message_status'].value_counts()
    

    # Extract counts, defaulting to 0 if the status is missing
    sent_count = len(campaigns_table) 
    sent_perc = round((len(campaigns_table)/sent_count*100),2)
    invalid_user_count = counts.get('invalid_user', 0)
    delivered_remaining = counts.get('delivered', 0)
    read_remaining = counts.get('read', 0)
    responded_remaining = counts.get('responded', 0)
    # Calculate funnel stages
    delivered_count = sent_count - invalid_user_count
    delivered_perc = round(((sent_count - invalid_user_count)/sent_count*100),2)
    read_count = delivered_count - delivered_remaining
    read_perc = round(((delivered_count - delivered_remaining)/sent_count*100),2)
    responded_count = read_count - read_remaining
    responded_perc = round(((read_count - read_remaining)/sent_count*100),2)

    # Return the funnel dictionary
    return {
        'Sent': sent_perc,
        'Delivered': delivered_perc,
        'Read': read_perc,
        'Responded': responded_perc}





funnel_week1=calculate_funnel_from_status_perc(campaigns_table[campaigns_table.campaign_id== 1])
funnel_week2=calculate_funnel_from_status_perc(campaigns_table[campaigns_table.campaign_id== 2])
funnel_week3=calculate_funnel_from_status_perc(campaigns_table[campaigns_table.campaign_id== 3])
funnel_week4=calculate_funnel_from_status_perc(campaigns_table[campaigns_table.campaign_id== 4])
funnel_weektry=calculate_funnel_from_status_count(campaigns_table[campaigns_table.campaign_id== 4])
import plotly.express as px
#fig, ax=plt.subplots(2,2,sharey=True) 
#fig.update_layout(title_text='Messages conversion rate') 
data_1 = dict(
    number= list(funnel_week1.values()),
    stage= list(funnel_week1.keys() ))
fig_1 = px.funnel(data_1, x='number', y='stage', title='Week One')
fig_1.show()
data_2 = dict(
    number= list(funnel_week2.values()),
    stage= list(funnel_week2.keys() ))
fig_2 = px.funnel(data_2, x='number', y='stage', title='Week Two')
fig_2.show()
data_3 = dict(
    number= list(funnel_week3.values()),
    stage= list(funnel_week3.keys() ))
fig_3 = px.funnel(data_3, x='number', y='stage', title='Week Three')
fig_3.show()
data_4 = dict(
    number= list(funnel_week4.values()),
    stage= list(funnel_week4.keys() ))
fig_4 = px.funnel(data_4, x='number', y='stage', title='Week Four')
fig_4.show()





#Generating a histogram. Count of responses for each category
#function that counts of responses.
#Histogram should be count of responses per organization. 
#print(campaigns_table['organization'].value_counts())

data_hist =pd.DataFrame(campaigns_table[ campaigns_table['message_status']=='responded'])
#print(data_hist.head())
#data_grouped = data_hist.groupby('organization')
#print(data_grouped)
fig = px.histogram(data_hist, x='organization', facet_col='campaign_id', category_orders=dict(campaign_id=[1.0, 2.0, 3.0, 4.0]), title='Count per respondent') 
fig.show()




combined_df.shape


campaigns_table.shape



